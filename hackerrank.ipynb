{
 "cells": [
  {
   "cell_type": "markdown",
   "metadata": {},
   "source": [
    "# Hackerrank exercises "
   ]
  },
  {
   "cell_type": "code",
   "execution_count": 2,
   "metadata": {},
   "outputs": [
    {
     "name": "stdout",
     "output_type": "stream",
     "text": [
      "3\n"
     ]
    }
   ],
   "source": [
    "# Absolute minimum difference\n",
    "\n",
    "arr = [-3,7,0]\n",
    "\n",
    "def abs_diff(arr):\n",
    "    diff = float('inf')\n",
    "    for i in range(len(arr) - 1):\n",
    "        temp = abs(arr[i] - arr[i + 1])\n",
    "        if temp < diff:\n",
    "            diff = temp\n",
    "            \n",
    "    last_diff = abs(arr[0] - arr[-1])\n",
    "    if last_diff < diff:\n",
    "        diff = last_diff\n",
    "    \n",
    "    return diff\n",
    "\n",
    "print(abs_diff(arr))"
   ]
  },
  {
   "cell_type": "code",
   "execution_count": 21,
   "metadata": {},
   "outputs": [
    {
     "name": "stdout",
     "output_type": "stream",
     "text": [
      "79\n"
     ]
    }
   ],
   "source": [
    "# marc's cakewalk\n",
    "# metsic porq sort\n",
    "# 2^j * a[j]= k\n",
    "# sum = sum +k \n",
    "\n",
    "\n",
    "a = [7, 4, 9, 6]\n",
    "k=0\n",
    "sum = 0\n",
    "\n",
    "a.sort(reverse=True)\n",
    "for j in range(len(a)):\n",
    "    k = (2**j) * a[j]\n",
    "    sum = sum + k\n",
    "\n",
    "print(sum)"
   ]
  },
  {
   "cell_type": "code",
   "execution_count": 30,
   "metadata": {},
   "outputs": [
    {
     "name": "stdout",
     "output_type": "stream",
     "text": [
      "[1, 2, 3, 7, 12, 14, 21, 21]\n",
      "1\n"
     ]
    }
   ],
   "source": [
    "# pryanka and toys\n",
    "\n",
    "a = [1, 2, 3, 21, 7, 12, 14, 21]\n",
    "\n",
    "a.sort()\n",
    "print(a)\n",
    "def split_list(lst, chunk_size):              \n",
    "    for i in range(0, len(lst), chunk_size):\n",
    "        chunks = [lst[i:i + chunk_size]]\n",
    "        num_splits = len(chunks)\n",
    "    return chunks, num_splits\n",
    "\n",
    "\n",
    "\n",
    "chunks, num_splits = split_list(a, 4)\n",
    "print(num_splits)"
   ]
  },
  {
   "cell_type": "code",
   "execution_count": null,
   "metadata": {},
   "outputs": [],
   "source": []
  }
 ],
 "metadata": {
  "kernelspec": {
   "display_name": "Python 3 (ipykernel)",
   "language": "python",
   "name": "python3"
  },
  "language_info": {
   "codemirror_mode": {
    "name": "ipython",
    "version": 3
   },
   "file_extension": ".py",
   "mimetype": "text/x-python",
   "name": "python",
   "nbconvert_exporter": "python",
   "pygments_lexer": "ipython3",
   "version": "3.11.0"
  }
 },
 "nbformat": 4,
 "nbformat_minor": 4
}
